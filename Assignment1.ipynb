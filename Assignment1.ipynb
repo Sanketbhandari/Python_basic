{
 "cells": [
  {
   "cell_type": "markdown",
   "id": "45a6d6b9",
   "metadata": {},
   "source": [
    "1. In the below elements which of them are values or an expression? eg:- values can be integer or string and expressions will be mathematical operators.\n",
    "*          expression\n",
    "'hello'    value\n",
    "-87.8      value\n",
    "-          expression\n",
    "/          expression\n",
    "+\t       expression\n",
    "6          value"
   ]
  },
  {
   "cell_type": "markdown",
   "id": "bff142fd",
   "metadata": {},
   "source": [
    "2. What is the difference between string and variable?\n",
    "String is a data type that represents a collection of one or more characters (i.e. text) put in single, double or triple quotes.\n",
    "Variable is a value which can be used to assign a data. The data assigned to a variable can be a string or an integer."
   ]
  },
  {
   "cell_type": "markdown",
   "id": "18ef409b",
   "metadata": {},
   "source": [
    "3. Describe three different data types.\n",
    "int - Integers are zero, positive or negative whole numbers without a fractional part.\n",
    "float - Floating point numbers (float) are positive and negative real numbers with a fractional part denoted by the decimal symbol.\n",
    "complex - The complex() function returns a complex number with real and imaginary component. The function can take two parameters, one each for real and imaginary component. They can be of any numeric type (int, float or complex)."
   ]
  },
  {
   "cell_type": "markdown",
   "id": "f5fe2466",
   "metadata": {},
   "source": [
    "4. What is an expression made up of? What do all expressions do?\n",
    "An expression is a combination of operators and operands that is interpreted to produce some other value. In any programming language, an expression is evaluated as per the precedence of its operators. So that if there is more than one operator in an expression, their precedence decides which operation will be performed first. All expressions evaluate (calculate) itself to a new value with the help of operator and operands."
   ]
  },
  {
   "cell_type": "markdown",
   "id": "dbfea1c5",
   "metadata": {},
   "source": [
    "5. This assignment statements, like spam = 10. What is the difference between an expression and a statement?\n",
    "An Expression is a sequence or combination of values, variables, operators and function calls that always produces or returns a result value. Evaluation of an expression always Produces or returns a result value. eg: a + 3 = 5\n",
    "A Statement is the smallest executable unit of code that has an effect, like creating a variable or displaying a value. Execution of a statement may or may not produces or displays a result value, it only does whatever the statement says. eg: a = 2"
   ]
  },
  {
   "cell_type": "markdown",
   "id": "4392526a",
   "metadata": {},
   "source": [
    "6. After running the following code, what does the variable bacon contain?\n",
    "bacon = 22\n",
    "bacon + 1\n",
    "\n",
    "22 as the bacon + 1 expression does not reassign the value in bacon (that would need an assignment statement: bacon = bacon + 1)"
   ]
  },
  {
   "cell_type": "markdown",
   "id": "a25ffa02",
   "metadata": {},
   "source": [
    "7. What should the values of the following two terms be?\n",
    "'spam' + 'spamspam'\n",
    "'spam' * 3\n",
    "\n",
    "spamspamspam"
   ]
  },
  {
   "cell_type": "markdown",
   "id": "a6697b72",
   "metadata": {},
   "source": [
    "8. Why is eggs a valid variable name while 100 is invalid?\n",
    "Variable names cannot begin with a number."
   ]
  },
  {
   "cell_type": "markdown",
   "id": "2e07689b",
   "metadata": {},
   "source": [
    "9. What three functions can be used to get the integer, floating-point number, or string version of a value?\n",
    "The int(), float(), and str() functions will evaluate to the integer, floating-point number, and string versions of the value passed to them."
   ]
  },
  {
   "cell_type": "markdown",
   "id": "b6dc4450",
   "metadata": {},
   "source": [
    "10. Why does this expression cause an error? How can you fix it?\n",
    "'I have eaten ' + 99 + ' burritos.'\n",
    "\n",
    "The expression causes an error because 99 is an integer, and only strings can be concatenated to other strings with the + operator. The correct way is I have eaten ' + str(99) + ' burritos.'."
   ]
  }
 ],
 "metadata": {
  "kernelspec": {
   "display_name": "Python 3",
   "language": "python",
   "name": "python3"
  },
  "language_info": {
   "codemirror_mode": {
    "name": "ipython",
    "version": 3
   },
   "file_extension": ".py",
   "mimetype": "text/x-python",
   "name": "python",
   "nbconvert_exporter": "python",
   "pygments_lexer": "ipython3",
   "version": "3.8.8"
  }
 },
 "nbformat": 4,
 "nbformat_minor": 5
}
